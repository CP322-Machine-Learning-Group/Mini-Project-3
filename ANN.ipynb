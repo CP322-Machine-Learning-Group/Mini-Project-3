{
  "cells": [
    {
      "cell_type": "markdown",
      "metadata": {
        "colab_type": "text",
        "id": "K9royD3dQa8_"
      },
      "source": [
        "Artificial Neural Network (ANN) Model for CIFAR-10 dataset prepared by Priyanshu"
      ]
    },
    {
      "cell_type": "code",
      "execution_count": 1,
      "metadata": {
        "colab": {},
        "colab_type": "code",
        "id": "O4rVnxDsyoXe"
      },
      "outputs": [
        {
          "name": "stdout",
          "output_type": "stream",
          "text": [
            "WARNING:tensorflow:From c:\\Users\\ferna\\AppData\\Local\\Programs\\Python\\Python311\\Lib\\site-packages\\keras\\src\\losses.py:2976: The name tf.losses.sparse_softmax_cross_entropy is deprecated. Please use tf.compat.v1.losses.sparse_softmax_cross_entropy instead.\n",
            "\n"
          ]
        }
      ],
      "source": [
        "#importing required libraries..\n",
        "import tensorflow as tf\n",
        "import numpy as np\n",
        "import matplotlib.pyplot as plt"
      ]
    },
    {
      "cell_type": "code",
      "execution_count": 2,
      "metadata": {
        "colab": {},
        "colab_type": "code",
        "id": "_nvW-YCwzPuk"
      },
      "outputs": [
        {
          "name": "stdout",
          "output_type": "stream",
          "text": [
            "2.15.0\n"
          ]
        }
      ],
      "source": [
        "#checking tensorflow version...\n",
        "print(tf.__version__)"
      ]
    },
    {
      "cell_type": "code",
      "execution_count": 3,
      "metadata": {
        "colab": {},
        "colab_type": "code",
        "id": "DtQVoA2Wzjja"
      },
      "outputs": [
        {
          "name": "stdout",
          "output_type": "stream",
          "text": [
            "Downloading data from https://www.cs.toronto.edu/~kriz/cifar-10-python.tar.gz\n",
            "170498071/170498071 [==============================] - 19s 0us/step\n"
          ]
        }
      ],
      "source": [
        "#loading the dataset...\n",
        "cifar=tf.keras.datasets.cifar10\n",
        "(training_images,training_labels),(testing_images,testing_labels)=cifar.load_data()"
      ]
    },
    {
      "cell_type": "code",
      "execution_count": 4,
      "metadata": {
        "colab": {},
        "colab_type": "code",
        "id": "B1T_7tNh1JRd"
      },
      "outputs": [],
      "source": [
        "#assigning names of labels from 0 to 9 to array 'names'...\n",
        "names=['airplane','automobile','bird','cat','deer','dog','frog','horse','ship','truck']\n"
      ]
    },
    {
      "cell_type": "code",
      "execution_count": 5,
      "metadata": {
        "colab": {},
        "colab_type": "code",
        "id": "BAEfYw-72Qtw"
      },
      "outputs": [
        {
          "data": {
            "text/plain": [
              "(50000, 32, 32, 3)"
            ]
          },
          "execution_count": 5,
          "metadata": {},
          "output_type": "execute_result"
        }
      ],
      "source": [
        "#checking the shape of images ...\n",
        "training_images.shape"
      ]
    },
    {
      "cell_type": "code",
      "execution_count": 6,
      "metadata": {
        "colab": {},
        "colab_type": "code",
        "id": "SyZvyeQU25g6"
      },
      "outputs": [
        {
          "data": {
            "text/plain": [
              "(50000, 1)"
            ]
          },
          "execution_count": 6,
          "metadata": {},
          "output_type": "execute_result"
        }
      ],
      "source": [
        "#checking shape of labels...\n",
        "training_labels.shape\n"
      ]
    },
    {
      "cell_type": "code",
      "execution_count": 7,
      "metadata": {
        "colab": {},
        "colab_type": "code",
        "id": "1V2L5q7t3FS2"
      },
      "outputs": [],
      "source": [
        "#dividing image pixel by 255 so that pixel comes in range 0 to 1...\n",
        "training_images=training_images/255.0\n",
        "testing_images=testing_images/255.0"
      ]
    },
    {
      "cell_type": "code",
      "execution_count": 8,
      "metadata": {
        "colab": {},
        "colab_type": "code",
        "id": "heyHZx9p4BTV"
      },
      "outputs": [
        {
          "name": "stdout",
          "output_type": "stream",
          "text": [
            "WARNING:tensorflow:From c:\\Users\\ferna\\AppData\\Local\\Programs\\Python\\Python311\\Lib\\site-packages\\keras\\src\\backend.py:873: The name tf.get_default_graph is deprecated. Please use tf.compat.v1.get_default_graph instead.\n",
            "\n"
          ]
        }
      ],
      "source": [
        "#defining the model...\n",
        "model=tf.keras.Sequential([\n",
        "    tf.keras.layers.Flatten(input_shape=(32,32,3)),\n",
        "    tf.keras.layers.Dense(128,activation='relu'),\n",
        "    tf.keras.layers.Dense(128,activation='relu'),\n",
        "    tf.keras.layers.Dense(10,activation='softmax')\n",
        "])"
      ]
    },
    {
      "cell_type": "code",
      "execution_count": 9,
      "metadata": {
        "colab": {},
        "colab_type": "code",
        "id": "TsMiKhmJ7fUN"
      },
      "outputs": [
        {
          "name": "stdout",
          "output_type": "stream",
          "text": [
            "WARNING:tensorflow:From c:\\Users\\ferna\\AppData\\Local\\Programs\\Python\\Python311\\Lib\\site-packages\\keras\\src\\optimizers\\__init__.py:309: The name tf.train.Optimizer is deprecated. Please use tf.compat.v1.train.Optimizer instead.\n",
            "\n"
          ]
        }
      ],
      "source": [
        "#compiling the model...\n",
        "model.compile(optimizer='adam',loss='sparse_categorical_crossentropy',metrics=['accuracy'])"
      ]
    },
    {
      "cell_type": "code",
      "execution_count": 10,
      "metadata": {
        "colab": {},
        "colab_type": "code",
        "id": "K7zVse0K8mOG"
      },
      "outputs": [
        {
          "name": "stdout",
          "output_type": "stream",
          "text": [
            "Epoch 1/35\n",
            "WARNING:tensorflow:From c:\\Users\\ferna\\AppData\\Local\\Programs\\Python\\Python311\\Lib\\site-packages\\keras\\src\\utils\\tf_utils.py:492: The name tf.ragged.RaggedTensorValue is deprecated. Please use tf.compat.v1.ragged.RaggedTensorValue instead.\n",
            "\n",
            "WARNING:tensorflow:From c:\\Users\\ferna\\AppData\\Local\\Programs\\Python\\Python311\\Lib\\site-packages\\keras\\src\\engine\\base_layer_utils.py:384: The name tf.executing_eagerly_outside_functions is deprecated. Please use tf.compat.v1.executing_eagerly_outside_functions instead.\n",
            "\n",
            "1563/1563 [==============================] - 4s 2ms/step - loss: 1.8631 - accuracy: 0.3272\n",
            "Epoch 2/35\n",
            "1563/1563 [==============================] - 5s 3ms/step - loss: 1.6936 - accuracy: 0.3953\n",
            "Epoch 3/35\n",
            "1563/1563 [==============================] - 5s 3ms/step - loss: 1.6253 - accuracy: 0.4200\n",
            "Epoch 4/35\n",
            "1563/1563 [==============================] - 5s 3ms/step - loss: 1.5759 - accuracy: 0.4375\n",
            "Epoch 5/35\n",
            "1563/1563 [==============================] - 5s 3ms/step - loss: 1.5399 - accuracy: 0.4501\n",
            "Epoch 6/35\n",
            "1563/1563 [==============================] - 4s 3ms/step - loss: 1.5106 - accuracy: 0.4594\n",
            "Epoch 7/35\n",
            "1563/1563 [==============================] - 5s 3ms/step - loss: 1.4920 - accuracy: 0.4668\n",
            "Epoch 8/35\n",
            "1563/1563 [==============================] - 5s 3ms/step - loss: 1.4725 - accuracy: 0.4717\n",
            "Epoch 9/35\n",
            "1563/1563 [==============================] - 4s 3ms/step - loss: 1.4547 - accuracy: 0.4811\n",
            "Epoch 10/35\n",
            "1563/1563 [==============================] - 5s 3ms/step - loss: 1.4440 - accuracy: 0.4834\n",
            "Epoch 11/35\n",
            "1563/1563 [==============================] - 5s 3ms/step - loss: 1.4287 - accuracy: 0.4904\n",
            "Epoch 12/35\n",
            "1563/1563 [==============================] - 4s 3ms/step - loss: 1.4173 - accuracy: 0.4920\n",
            "Epoch 13/35\n",
            "1563/1563 [==============================] - 4s 3ms/step - loss: 1.4074 - accuracy: 0.4976\n",
            "Epoch 14/35\n",
            "1563/1563 [==============================] - 5s 3ms/step - loss: 1.3955 - accuracy: 0.5027\n",
            "Epoch 15/35\n",
            "1563/1563 [==============================] - 4s 3ms/step - loss: 1.3853 - accuracy: 0.5049\n",
            "Epoch 16/35\n",
            "1563/1563 [==============================] - 4s 3ms/step - loss: 1.3771 - accuracy: 0.5093\n",
            "Epoch 17/35\n",
            "1563/1563 [==============================] - 5s 3ms/step - loss: 1.3733 - accuracy: 0.5095\n",
            "Epoch 18/35\n",
            "1563/1563 [==============================] - 4s 3ms/step - loss: 1.3661 - accuracy: 0.5123\n",
            "Epoch 19/35\n",
            "1563/1563 [==============================] - 4s 3ms/step - loss: 1.3591 - accuracy: 0.5149\n",
            "Epoch 20/35\n",
            "1563/1563 [==============================] - 4s 3ms/step - loss: 1.3462 - accuracy: 0.5219\n",
            "Epoch 21/35\n",
            "1563/1563 [==============================] - 4s 3ms/step - loss: 1.3431 - accuracy: 0.5204\n",
            "Epoch 22/35\n",
            "1563/1563 [==============================] - 4s 3ms/step - loss: 1.3362 - accuracy: 0.5249\n",
            "Epoch 23/35\n",
            "1563/1563 [==============================] - 5s 3ms/step - loss: 1.3343 - accuracy: 0.5233\n",
            "Epoch 24/35\n",
            "1563/1563 [==============================] - 5s 3ms/step - loss: 1.3281 - accuracy: 0.5254\n",
            "Epoch 25/35\n",
            "1563/1563 [==============================] - 4s 3ms/step - loss: 1.3228 - accuracy: 0.5271\n",
            "Epoch 26/35\n",
            "1563/1563 [==============================] - 4s 3ms/step - loss: 1.3132 - accuracy: 0.5320\n",
            "Epoch 27/35\n",
            "1563/1563 [==============================] - 4s 3ms/step - loss: 1.3080 - accuracy: 0.5349\n",
            "Epoch 28/35\n",
            "1563/1563 [==============================] - 4s 3ms/step - loss: 1.3058 - accuracy: 0.5330\n",
            "Epoch 29/35\n",
            "1563/1563 [==============================] - 4s 3ms/step - loss: 1.3036 - accuracy: 0.5336\n",
            "Epoch 30/35\n",
            "1563/1563 [==============================] - 5s 3ms/step - loss: 1.3021 - accuracy: 0.5343\n",
            "Epoch 31/35\n",
            "1563/1563 [==============================] - 5s 3ms/step - loss: 1.2956 - accuracy: 0.5334\n",
            "Epoch 32/35\n",
            "1563/1563 [==============================] - 5s 3ms/step - loss: 1.2915 - accuracy: 0.5379\n",
            "Epoch 33/35\n",
            "1563/1563 [==============================] - 5s 3ms/step - loss: 1.2852 - accuracy: 0.5396\n",
            "Epoch 34/35\n",
            "1563/1563 [==============================] - 4s 3ms/step - loss: 1.2812 - accuracy: 0.5393\n",
            "Epoch 35/35\n",
            "1563/1563 [==============================] - 4s 3ms/step - loss: 1.2806 - accuracy: 0.5402\n"
          ]
        },
        {
          "data": {
            "text/plain": [
              "<keras.src.callbacks.History at 0x243d21c3450>"
            ]
          },
          "execution_count": 10,
          "metadata": {},
          "output_type": "execute_result"
        }
      ],
      "source": [
        "#training data to the model...\n",
        "model.fit(training_images,training_labels,epochs=35)"
      ]
    },
    {
      "cell_type": "code",
      "execution_count": 11,
      "metadata": {
        "colab": {},
        "colab_type": "code",
        "id": "KhIWrf4-89pF"
      },
      "outputs": [
        {
          "name": "stdout",
          "output_type": "stream",
          "text": [
            "313/313 [==============================] - 1s 2ms/step - loss: 1.4894 - accuracy: 0.4817\n"
          ]
        }
      ],
      "source": [
        "#evaluating the model for testing data..\n",
        "test_loss,test_acc=model.evaluate(testing_images,testing_labels)"
      ]
    },
    {
      "cell_type": "code",
      "execution_count": 12,
      "metadata": {
        "colab": {},
        "colab_type": "code",
        "id": "iO6RCodFLZ5o"
      },
      "outputs": [
        {
          "name": "stdout",
          "output_type": "stream",
          "text": [
            "Test accuracy: 0.48170000314712524\n"
          ]
        }
      ],
      "source": [
        "print(\"Test accuracy:\",test_acc)"
      ]
    },
    {
      "cell_type": "code",
      "execution_count": 13,
      "metadata": {
        "colab": {},
        "colab_type": "code",
        "id": "rTLDTwEDLiqw"
      },
      "outputs": [
        {
          "name": "stdout",
          "output_type": "stream",
          "text": [
            "313/313 [==============================] - 1s 1ms/step\n"
          ]
        }
      ],
      "source": [
        "#predicting the data...\n",
        "predictions=model.predict(testing_images)"
      ]
    },
    {
      "cell_type": "code",
      "execution_count": 14,
      "metadata": {
        "colab": {},
        "colab_type": "code",
        "id": "5DVGm3H4L2t-"
      },
      "outputs": [
        {
          "name": "stdout",
          "output_type": "stream",
          "text": [
            "truck\n"
          ]
        }
      ],
      "source": [
        "#printing data predicted for 2nd index..\n",
        "print(names[np.argmax(predictions[2])])\n"
      ]
    },
    {
      "cell_type": "code",
      "execution_count": 15,
      "metadata": {
        "colab": {},
        "colab_type": "code",
        "id": "qjCQwLeUMGCV"
      },
      "outputs": [
        {
          "name": "stdout",
          "output_type": "stream",
          "text": [
            "ship\n"
          ]
        }
      ],
      "source": [
        "#actual data at index 2...\n",
        "print(names[testing_labels[2][0]])"
      ]
    },
    {
      "cell_type": "code",
      "execution_count": 16,
      "metadata": {
        "colab": {},
        "colab_type": "code",
        "id": "B1szUrMXMRe7"
      },
      "outputs": [],
      "source": [
        "#predicted data is same as actual data.."
      ]
    },
    {
      "cell_type": "code",
      "execution_count": 17,
      "metadata": {
        "colab": {},
        "colab_type": "code",
        "id": "eSlyXigTP1Mi"
      },
      "outputs": [],
      "source": [
        "#Completed ANN model on dataset CIFAR-10"
      ]
    }
  ],
  "metadata": {
    "colab": {
      "collapsed_sections": [],
      "name": "Priyanshu_2nd_ANN.ipynb",
      "provenance": []
    },
    "kernelspec": {
      "display_name": "Python 3",
      "name": "python3"
    },
    "language_info": {
      "codemirror_mode": {
        "name": "ipython",
        "version": 3
      },
      "file_extension": ".py",
      "mimetype": "text/x-python",
      "name": "python",
      "nbconvert_exporter": "python",
      "pygments_lexer": "ipython3",
      "version": "3.11.6"
    }
  },
  "nbformat": 4,
  "nbformat_minor": 0
}
